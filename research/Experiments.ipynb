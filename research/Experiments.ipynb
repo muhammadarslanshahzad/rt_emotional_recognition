{
 "cells": [
  {
   "cell_type": "code",
   "execution_count": 7,
   "id": "ce937799-05d7-489e-81b8-b71e3665f2a3",
   "metadata": {},
   "outputs": [],
   "source": [
    "import pandas as pd \n",
    "import matplotlib.pyplot as plt\n",
    "import nltk"
   ]
  },
  {
   "cell_type": "code",
   "execution_count": 2,
   "id": "f3f30d3c-5b14-4b01-ac85-2d63bff8e6a1",
   "metadata": {},
   "outputs": [
    {
     "name": "stdout",
     "output_type": "stream",
     "text": [
      "/mnt/e/rt_emotional_recognition\n"
     ]
    }
   ],
   "source": [
    "cd .."
   ]
  },
  {
   "cell_type": "code",
   "execution_count": 3,
   "id": "e9b2228e",
   "metadata": {},
   "outputs": [],
   "source": [
    "df = pd.read_csv('artifacts/Data/ISEAR_dataset.csv')"
   ]
  },
  {
   "cell_type": "code",
   "execution_count": 4,
   "id": "136f81c3",
   "metadata": {},
   "outputs": [
    {
     "data": {
      "text/html": [
       "<div>\n",
       "<style scoped>\n",
       "    .dataframe tbody tr th:only-of-type {\n",
       "        vertical-align: middle;\n",
       "    }\n",
       "\n",
       "    .dataframe tbody tr th {\n",
       "        vertical-align: top;\n",
       "    }\n",
       "\n",
       "    .dataframe thead th {\n",
       "        text-align: right;\n",
       "    }\n",
       "</style>\n",
       "<table border=\"1\" class=\"dataframe\">\n",
       "  <thead>\n",
       "    <tr style=\"text-align: right;\">\n",
       "      <th></th>\n",
       "      <th>sentiment</th>\n",
       "      <th>content</th>\n",
       "      <th>Unnamed: 2</th>\n",
       "    </tr>\n",
       "  </thead>\n",
       "  <tbody>\n",
       "    <tr>\n",
       "      <th>0</th>\n",
       "      <td>joy</td>\n",
       "      <td>On days when I feel close to my partner and ot...</td>\n",
       "      <td>NaN</td>\n",
       "    </tr>\n",
       "    <tr>\n",
       "      <th>1</th>\n",
       "      <td>fear</td>\n",
       "      <td>Every time I imagine that someone I love or I ...</td>\n",
       "      <td>NaN</td>\n",
       "    </tr>\n",
       "    <tr>\n",
       "      <th>2</th>\n",
       "      <td>anger</td>\n",
       "      <td>When I had been obviously unjustly treated and...</td>\n",
       "      <td>NaN</td>\n",
       "    </tr>\n",
       "    <tr>\n",
       "      <th>3</th>\n",
       "      <td>sadness</td>\n",
       "      <td>When I think about the short time that we live...</td>\n",
       "      <td>NaN</td>\n",
       "    </tr>\n",
       "    <tr>\n",
       "      <th>4</th>\n",
       "      <td>disgust</td>\n",
       "      <td>At a gathering I found myself involuntarily si...</td>\n",
       "      <td>NaN</td>\n",
       "    </tr>\n",
       "    <tr>\n",
       "      <th>5</th>\n",
       "      <td>shame</td>\n",
       "      <td>When I realized that I was directing the feeli...</td>\n",
       "      <td>NaN</td>\n",
       "    </tr>\n",
       "    <tr>\n",
       "      <th>6</th>\n",
       "      <td>guilt</td>\n",
       "      <td>I feel guilty when when I realize that I consi...</td>\n",
       "      <td>NaN</td>\n",
       "    </tr>\n",
       "    <tr>\n",
       "      <th>7</th>\n",
       "      <td>joy</td>\n",
       "      <td>After my girlfriend had taken her exam we went...</td>\n",
       "      <td>NaN</td>\n",
       "    </tr>\n",
       "    <tr>\n",
       "      <th>8</th>\n",
       "      <td>fear</td>\n",
       "      <td>When, for the first time I realized the meanin...</td>\n",
       "      <td>NaN</td>\n",
       "    </tr>\n",
       "    <tr>\n",
       "      <th>9</th>\n",
       "      <td>anger</td>\n",
       "      <td>When a car is overtaking another and I am forc...</td>\n",
       "      <td>NaN</td>\n",
       "    </tr>\n",
       "    <tr>\n",
       "      <th>10</th>\n",
       "      <td>sadness</td>\n",
       "      <td>When I recently thought about the hard work it...</td>\n",
       "      <td>NaN</td>\n",
       "    </tr>\n",
       "    <tr>\n",
       "      <th>11</th>\n",
       "      <td>disgust</td>\n",
       "      <td>When I found a bristle in the liver paste tube.</td>\n",
       "      <td>NaN</td>\n",
       "    </tr>\n",
       "    <tr>\n",
       "      <th>12</th>\n",
       "      <td>shame</td>\n",
       "      <td>When I was tired and unmotivated, I shouted at...</td>\n",
       "      <td>NaN</td>\n",
       "    </tr>\n",
       "    <tr>\n",
       "      <th>13</th>\n",
       "      <td>guilt</td>\n",
       "      <td>When I think that I do not study enough.  Afte...</td>\n",
       "      <td>NaN</td>\n",
       "    </tr>\n",
       "    <tr>\n",
       "      <th>14</th>\n",
       "      <td>joy</td>\n",
       "      <td>When I pass an examination which I did not thi...</td>\n",
       "      <td>NaN</td>\n",
       "    </tr>\n",
       "    <tr>\n",
       "      <th>15</th>\n",
       "      <td>fear</td>\n",
       "      <td>When one has arranged to meet someone and that...</td>\n",
       "      <td>NaN</td>\n",
       "    </tr>\n",
       "    <tr>\n",
       "      <th>16</th>\n",
       "      <td>anger</td>\n",
       "      <td>When one is unjustly accused of something one ...</td>\n",
       "      <td>NaN</td>\n",
       "    </tr>\n",
       "    <tr>\n",
       "      <th>17</th>\n",
       "      <td>sadness</td>\n",
       "      <td>When one's studies seem hopelessly difficult a...</td>\n",
       "      <td>NaN</td>\n",
       "    </tr>\n",
       "    <tr>\n",
       "      <th>18</th>\n",
       "      <td>disgust</td>\n",
       "      <td>When one finds out that someone you know is no...</td>\n",
       "      <td>NaN</td>\n",
       "    </tr>\n",
       "    <tr>\n",
       "      <th>19</th>\n",
       "      <td>shame</td>\n",
       "      <td>When one has been unjust, stupid towards someo...</td>\n",
       "      <td>NaN</td>\n",
       "    </tr>\n",
       "  </tbody>\n",
       "</table>\n",
       "</div>"
      ],
      "text/plain": [
       "   sentiment                                            content Unnamed: 2\n",
       "0        joy  On days when I feel close to my partner and ot...        NaN\n",
       "1       fear  Every time I imagine that someone I love or I ...        NaN\n",
       "2      anger  When I had been obviously unjustly treated and...        NaN\n",
       "3    sadness  When I think about the short time that we live...        NaN\n",
       "4    disgust  At a gathering I found myself involuntarily si...        NaN\n",
       "5      shame  When I realized that I was directing the feeli...        NaN\n",
       "6      guilt  I feel guilty when when I realize that I consi...        NaN\n",
       "7        joy  After my girlfriend had taken her exam we went...        NaN\n",
       "8       fear  When, for the first time I realized the meanin...        NaN\n",
       "9      anger  When a car is overtaking another and I am forc...        NaN\n",
       "10   sadness  When I recently thought about the hard work it...        NaN\n",
       "11   disgust    When I found a bristle in the liver paste tube.        NaN\n",
       "12     shame  When I was tired and unmotivated, I shouted at...        NaN\n",
       "13     guilt  When I think that I do not study enough.  Afte...        NaN\n",
       "14       joy  When I pass an examination which I did not thi...        NaN\n",
       "15      fear  When one has arranged to meet someone and that...        NaN\n",
       "16     anger  When one is unjustly accused of something one ...        NaN\n",
       "17   sadness  When one's studies seem hopelessly difficult a...        NaN\n",
       "18   disgust  When one finds out that someone you know is no...        NaN\n",
       "19     shame  When one has been unjust, stupid towards someo...        NaN"
      ]
     },
     "execution_count": 4,
     "metadata": {},
     "output_type": "execute_result"
    }
   ],
   "source": [
    "df.head(20)"
   ]
  },
  {
   "cell_type": "code",
   "execution_count": 5,
   "id": "3bceee84-9494-446a-adf3-e38e78575b90",
   "metadata": {},
   "outputs": [
    {
     "name": "stdout",
     "output_type": "stream",
     "text": [
      "<class 'pandas.core.frame.DataFrame'>\n",
      "RangeIndex: 7516 entries, 0 to 7515\n",
      "Data columns (total 3 columns):\n",
      " #   Column      Non-Null Count  Dtype \n",
      "---  ------      --------------  ----- \n",
      " 0   sentiment   7516 non-null   object\n",
      " 1   content     7516 non-null   object\n",
      " 2   Unnamed: 2  3 non-null      object\n",
      "dtypes: object(3)\n",
      "memory usage: 176.3+ KB\n"
     ]
    }
   ],
   "source": [
    "df.info()"
   ]
  },
  {
   "cell_type": "code",
   "execution_count": 6,
   "id": "c3d82821-7245-4e6b-8d1a-1b0b44f3028d",
   "metadata": {},
   "outputs": [
    {
     "data": {
      "text/plain": [
       "array(['joy', 'fear', 'anger', 'sadness', 'disgust', 'shame', 'guilt',\n",
       "       'guit'], dtype=object)"
      ]
     },
     "execution_count": 6,
     "metadata": {},
     "output_type": "execute_result"
    }
   ],
   "source": [
    "df['sentiment'].unique()"
   ]
  },
  {
   "cell_type": "code",
   "execution_count": 8,
   "id": "a11b2510-87cd-4682-a950-f4bce8067f6c",
   "metadata": {},
   "outputs": [],
   "source": [
    "df.columns = ['EMOTION', 'TEXT', 'Unnamed']\n"
   ]
  },
  {
   "cell_type": "code",
   "execution_count": 9,
   "id": "17a7c5af-4b8e-43d6-b2d7-030fd00d2b23",
   "metadata": {},
   "outputs": [],
   "source": [
    "df = df.drop(columns=['Unnamed'])"
   ]
  },
  {
   "cell_type": "code",
   "execution_count": 10,
   "id": "3afe1a91-a976-4688-a0d4-0cfa073ae67e",
   "metadata": {},
   "outputs": [
    {
     "data": {
      "text/html": [
       "<div>\n",
       "<style scoped>\n",
       "    .dataframe tbody tr th:only-of-type {\n",
       "        vertical-align: middle;\n",
       "    }\n",
       "\n",
       "    .dataframe tbody tr th {\n",
       "        vertical-align: top;\n",
       "    }\n",
       "\n",
       "    .dataframe thead th {\n",
       "        text-align: right;\n",
       "    }\n",
       "</style>\n",
       "<table border=\"1\" class=\"dataframe\">\n",
       "  <thead>\n",
       "    <tr style=\"text-align: right;\">\n",
       "      <th></th>\n",
       "      <th>EMOTION</th>\n",
       "      <th>TEXT</th>\n",
       "    </tr>\n",
       "  </thead>\n",
       "  <tbody>\n",
       "    <tr>\n",
       "      <th>0</th>\n",
       "      <td>joy</td>\n",
       "      <td>On days when I feel close to my partner and ot...</td>\n",
       "    </tr>\n",
       "    <tr>\n",
       "      <th>1</th>\n",
       "      <td>fear</td>\n",
       "      <td>Every time I imagine that someone I love or I ...</td>\n",
       "    </tr>\n",
       "    <tr>\n",
       "      <th>2</th>\n",
       "      <td>anger</td>\n",
       "      <td>When I had been obviously unjustly treated and...</td>\n",
       "    </tr>\n",
       "    <tr>\n",
       "      <th>3</th>\n",
       "      <td>sadness</td>\n",
       "      <td>When I think about the short time that we live...</td>\n",
       "    </tr>\n",
       "    <tr>\n",
       "      <th>4</th>\n",
       "      <td>disgust</td>\n",
       "      <td>At a gathering I found myself involuntarily si...</td>\n",
       "    </tr>\n",
       "  </tbody>\n",
       "</table>\n",
       "</div>"
      ],
      "text/plain": [
       "   EMOTION                                               TEXT\n",
       "0      joy  On days when I feel close to my partner and ot...\n",
       "1     fear  Every time I imagine that someone I love or I ...\n",
       "2    anger  When I had been obviously unjustly treated and...\n",
       "3  sadness  When I think about the short time that we live...\n",
       "4  disgust  At a gathering I found myself involuntarily si..."
      ]
     },
     "execution_count": 10,
     "metadata": {},
     "output_type": "execute_result"
    }
   ],
   "source": [
    "df.head()"
   ]
  },
  {
   "cell_type": "code",
   "execution_count": 19,
   "id": "6a139043-2e0f-4bf7-aaae-b27aa9a135de",
   "metadata": {},
   "outputs": [],
   "source": [
    "from nltk.corpus import stopwords\n",
    "from nltk.stem.wordnet import WordNetLemmatizer\n",
    "from nltk.stem import PorterStemmer"
   ]
  },
  {
   "cell_type": "code",
   "execution_count": 13,
   "id": "520fdacf-1116-40aa-8bd4-27345b8940f2",
   "metadata": {},
   "outputs": [],
   "source": [
    "df['TEXT'] = df['TEXT'].apply(lambda a: \" \".join(a.lower() for a in a.split()))"
   ]
  },
  {
   "cell_type": "code",
   "execution_count": 14,
   "id": "6d6d57c1-5326-4f8e-accd-33030a9a11e1",
   "metadata": {},
   "outputs": [],
   "source": [
    "df['TEXT'] = df['TEXT'].apply(lambda a: \" \".join(a.replace('[^\\w\\s\\]', \"\") for a in a.split()))"
   ]
  },
  {
   "cell_type": "code",
   "execution_count": 17,
   "id": "20bc5c38-b7c3-4192-a849-85e785fc5747",
   "metadata": {},
   "outputs": [],
   "source": [
    "stop = stopwords.words('english')\n",
    "df['TEXT'] = df['TEXT'].apply(lambda a: \" \".join(a for a in a.split() if a not in stop))"
   ]
  },
  {
   "cell_type": "code",
   "execution_count": 16,
   "id": "be8f1f8a-543f-43ba-bc73-1276b1f60db9",
   "metadata": {},
   "outputs": [
    {
     "name": "stdout",
     "output_type": "stream",
     "text": [
      "showing info https://raw.githubusercontent.com/nltk/nltk_data/gh-pages/index.xml\n"
     ]
    },
    {
     "data": {
      "text/plain": [
       "True"
      ]
     },
     "execution_count": 16,
     "metadata": {},
     "output_type": "execute_result"
    }
   ],
   "source": [
    "nltk.download()"
   ]
  },
  {
   "cell_type": "code",
   "execution_count": 20,
   "id": "a9e6a448-9b82-49c6-b77d-ffe88e389d0c",
   "metadata": {},
   "outputs": [],
   "source": [
    "st = PorterStemmer()"
   ]
  },
  {
   "cell_type": "code",
   "execution_count": 23,
   "id": "06f2f68f-21b7-484e-abf4-c5a140e86cde",
   "metadata": {},
   "outputs": [],
   "source": [
    "df['TEXT'] = df['TEXT'].apply(lambda a: \" \".join([st.stem(word) for word in a.split()]))"
   ]
  },
  {
   "cell_type": "code",
   "execution_count": 27,
   "id": "9d825544-b884-4c94-9ab5-d72b7a4c5dd2",
   "metadata": {},
   "outputs": [],
   "source": [
    "from spellchecker import SpellChecker\n",
    "spell = SpellChecker()\n",
    "df['TEXT'] = df['TEXT'].apply(lambda a: \" \".join(spell.correction(word) if spell.correction(word) is not None else word for word in a.split()))"
   ]
  },
  {
   "cell_type": "code",
   "execution_count": 28,
   "id": "b010565b-2c7d-4dcc-9b94-424ad3ce705d",
   "metadata": {},
   "outputs": [
    {
     "data": {
      "text/html": [
       "<div>\n",
       "<style scoped>\n",
       "    .dataframe tbody tr th:only-of-type {\n",
       "        vertical-align: middle;\n",
       "    }\n",
       "\n",
       "    .dataframe tbody tr th {\n",
       "        vertical-align: top;\n",
       "    }\n",
       "\n",
       "    .dataframe thead th {\n",
       "        text-align: right;\n",
       "    }\n",
       "</style>\n",
       "<table border=\"1\" class=\"dataframe\">\n",
       "  <thead>\n",
       "    <tr style=\"text-align: right;\">\n",
       "      <th></th>\n",
       "      <th>EMOTION</th>\n",
       "      <th>TEXT</th>\n",
       "    </tr>\n",
       "  </thead>\n",
       "  <tbody>\n",
       "    <tr>\n",
       "      <th>0</th>\n",
       "      <td>joy</td>\n",
       "      <td>day feel close partner friends feel peace also...</td>\n",
       "    </tr>\n",
       "    <tr>\n",
       "      <th>1</th>\n",
       "      <td>fear</td>\n",
       "      <td>ever time imagine someone love could contact s...</td>\n",
       "    </tr>\n",
       "    <tr>\n",
       "      <th>2</th>\n",
       "      <td>anger</td>\n",
       "      <td>obvious unjustly treat possible lucid this</td>\n",
       "    </tr>\n",
       "    <tr>\n",
       "      <th>3</th>\n",
       "      <td>sadness</td>\n",
       "      <td>think short time live relax period life think ...</td>\n",
       "    </tr>\n",
       "    <tr>\n",
       "      <th>4</th>\n",
       "      <td>disgust</td>\n",
       "      <td>gather found involuntarily sit next two peopl ...</td>\n",
       "    </tr>\n",
       "  </tbody>\n",
       "</table>\n",
       "</div>"
      ],
      "text/plain": [
       "   EMOTION                                               TEXT\n",
       "0      joy  day feel close partner friends feel peace also...\n",
       "1     fear  ever time imagine someone love could contact s...\n",
       "2    anger         obvious unjustly treat possible lucid this\n",
       "3  sadness  think short time live relax period life think ...\n",
       "4  disgust  gather found involuntarily sit next two peopl ..."
      ]
     },
     "execution_count": 28,
     "metadata": {},
     "output_type": "execute_result"
    }
   ],
   "source": [
    "df.head()"
   ]
  },
  {
   "cell_type": "code",
   "execution_count": 29,
   "id": "4e905784-f474-4148-a730-5619883561ec",
   "metadata": {},
   "outputs": [
    {
     "data": {
      "text/plain": [
       "EMOTION\n",
       "joy        1092\n",
       "sadness    1082\n",
       "anger      1079\n",
       "fear       1076\n",
       "shame      1071\n",
       "disgust    1066\n",
       "guilt      1049\n",
       "guit          1\n",
       "Name: count, dtype: int64"
      ]
     },
     "execution_count": 29,
     "metadata": {},
     "output_type": "execute_result"
    }
   ],
   "source": [
    "df['EMOTION'].value_counts()"
   ]
  },
  {
   "cell_type": "code",
   "execution_count": 32,
   "id": "45cc73bf-7879-4caf-870d-1bc5c830e7b6",
   "metadata": {},
   "outputs": [],
   "source": [
    "from sklearn.preprocessing import LabelEncoder"
   ]
  },
  {
   "cell_type": "code",
   "execution_count": 33,
   "id": "2e34c75a-1b71-4f30-8dc4-5757ade4b96e",
   "metadata": {},
   "outputs": [],
   "source": [
    "le = LabelEncoder()"
   ]
  },
  {
   "cell_type": "code",
   "execution_count": 34,
   "id": "4410c412-8d3a-4796-925e-a055fb9fba66",
   "metadata": {},
   "outputs": [],
   "source": [
    "df['EMOTION'] = le.fit_transform(df['EMOTION'])"
   ]
  },
  {
   "cell_type": "code",
   "execution_count": 35,
   "id": "e6be91f9-72ec-4172-9f95-a043dfb61936",
   "metadata": {},
   "outputs": [
    {
     "data": {
      "text/plain": [
       "EMOTION\n",
       "5    1092\n",
       "6    1082\n",
       "0    1079\n",
       "2    1076\n",
       "7    1071\n",
       "1    1066\n",
       "3    1049\n",
       "4       1\n",
       "Name: count, dtype: int64"
      ]
     },
     "execution_count": 35,
     "metadata": {},
     "output_type": "execute_result"
    }
   ],
   "source": [
    "df['EMOTION'].value_counts()"
   ]
  },
  {
   "cell_type": "code",
   "execution_count": 36,
   "id": "133239b0-2f36-408c-b3ce-3650809e744c",
   "metadata": {},
   "outputs": [],
   "source": [
    "from sklearn.model_selection import train_test_split\n",
    "\n",
    "# Get the emotions with at least two instances\n",
    "valid_emotions = df['EMOTION'].value_counts()[df['EMOTION'].value_counts() > 1].index.tolist()\n",
    "\n",
    "# Filter the data to only include valid emotions\n",
    "filtered_data = df[df['EMOTION'].isin(valid_emotions)]\n",
    "\n",
    "# Split the filtered data into train and test sets\n",
    "Xtrain, Xtest, Ytrain, Ytest = train_test_split(filtered_data['TEXT'], filtered_data['EMOTION'], stratify=filtered_data['EMOTION'])"
   ]
  },
  {
   "cell_type": "code",
   "execution_count": 38,
   "id": "33c37bd2-dfe0-4c0e-8fca-e2c146595894",
   "metadata": {},
   "outputs": [],
   "source": [
    "from sklearn.feature_extraction. text import CountVectorizer, TfidfVectorizer"
   ]
  },
  {
   "cell_type": "code",
   "execution_count": 39,
   "id": "2ccad45f-ae0c-48c0-b0f4-ad814751f5c2",
   "metadata": {},
   "outputs": [],
   "source": [
    "# counting Vectors \n",
    "cv = CountVectorizer()\n",
    "\n",
    "cv.fit(df['TEXT'])\n",
    "cv_xtrain = cv.transform(Xtrain)\n",
    "cv_xtest = cv.transform(Xtest)"
   ]
  },
  {
   "cell_type": "code",
   "execution_count": 40,
   "id": "01cb2bcd-51a7-4281-9ade-029807c128dd",
   "metadata": {},
   "outputs": [],
   "source": [
    "# tfidvec\n",
    "\n",
    "tv = TfidfVectorizer()\n",
    "tv.fit(df['TEXT'])\n",
    "tv_xtrain = tv.transform(Xtrain)\n",
    "tv_xtest = tv.transform(Xtest)"
   ]
  },
  {
   "cell_type": "code",
   "execution_count": 41,
   "id": "19277b3e-6318-41b4-9848-f0dda1ea0751",
   "metadata": {},
   "outputs": [],
   "source": [
    "def build_model(model_initializer, independent_variables, target, independent_variables_test):\n",
    "    model_initializer.fit(independent_variables, target)\n",
    "    modelPred = model_initializer.predict(independent_variables_test)\n",
    "    return metrics.accuracy_score(modelPred, Ytest)"
   ]
  },
  {
   "cell_type": "code",
   "execution_count": 44,
   "id": "412e9f70-1afe-43ff-a219-5c14b148b12f",
   "metadata": {},
   "outputs": [],
   "source": [
    "from sklearn import model_selection, linear_model, naive_bayes, svm, metrics"
   ]
  },
  {
   "cell_type": "code",
   "execution_count": 47,
   "id": "642ebace-f050-4a81-96dc-0f2301c6fed6",
   "metadata": {},
   "outputs": [
    {
     "name": "stdout",
     "output_type": "stream",
     "text": [
      "0.5689196381053752\n"
     ]
    }
   ],
   "source": [
    "output = build_model(naive_bayes.MultinomialNB(), cv_xtrain, Ytrain, cv_xtest)\n",
    "print(output)"
   ]
  },
  {
   "cell_type": "code",
   "execution_count": 48,
   "id": "b102626e-996f-4b48-b112-b575e18f446f",
   "metadata": {},
   "outputs": [
    {
     "name": "stdout",
     "output_type": "stream",
     "text": [
      "0.5678552421500799\n"
     ]
    }
   ],
   "source": [
    "output = build_model(naive_bayes.MultinomialNB(), tv_xtrain, Ytrain, tv_xtest)\n",
    "print(output)"
   ]
  },
  {
   "cell_type": "code",
   "execution_count": 49,
   "id": "79b79ff3-5b73-445c-b521-c1e494644ef8",
   "metadata": {},
   "outputs": [
    {
     "name": "stdout",
     "output_type": "stream",
     "text": [
      "0.5721128259712613\n",
      "0.5864821713677488\n"
     ]
    }
   ],
   "source": [
    "from sklearn.linear_model import LogisticRegression\n",
    "\n",
    "# Set a higher max_iter value\n",
    "max_iter_value = 1000  # You can adjust this value based on your data\n",
    "\n",
    "# for CV\n",
    "output_cv = build_model(LogisticRegression(max_iter=max_iter_value), cv_xtrain, Ytrain, cv_xtest) \n",
    "print(output_cv)\n",
    "\n",
    "# for TF-IDF\n",
    "output_tfidf = build_model(LogisticRegression(max_iter=max_iter_value), tv_xtrain, Ytrain, tv_xtest)\n",
    "print(output_tfidf)"
   ]
  },
  {
   "cell_type": "code",
   "execution_count": 51,
   "id": "59a474e3-5bd6-46ee-87a0-f6ad9883d6f6",
   "metadata": {},
   "outputs": [
    {
     "name": "stdout",
     "output_type": "stream",
     "text": [
      "0.5481639169771155\n",
      "0.5790313996806812\n"
     ]
    }
   ],
   "source": [
    "\n",
    "output =build_model(svm. SVC(), cv_xtrain, Ytrain, cv_xtest)\n",
    "print (output)\n",
    "\n",
    "#for TF-IDF\n",
    "\n",
    "output =build_model(svm.SVC(), tv_xtrain, Ytrain, tv_xtest)\n",
    "print(output)"
   ]
  },
  {
   "cell_type": "code",
   "execution_count": 55,
   "id": "3708af60-ff0e-4117-9584-b6fe52445371",
   "metadata": {},
   "outputs": [
    {
     "name": "stdout",
     "output_type": "stream",
     "text": [
      "0.5428419372006387\n",
      "0.5598722724853645\n"
     ]
    }
   ],
   "source": [
    "output = build_model(ensemble.RandomForestClassifier(), cv_xtrain, Ytrain, cv_xtest) \n",
    "print(output)\n",
    "\n",
    "#for TF-IDF\n",
    "\n",
    "output = build_model(ensemble.RandomForestClassifier(), tv_xtrain, Ytrain,tv_xtest)\n",
    "\n",
    "print(output)"
   ]
  },
  {
   "cell_type": "code",
   "execution_count": 54,
   "id": "ffdb144a-0f03-4747-871c-a5dbd5f7700e",
   "metadata": {},
   "outputs": [],
   "source": [
    "from sklearn import ensemble"
   ]
  },
  {
   "cell_type": "code",
   "execution_count": null,
   "id": "a02a054d-a16b-46c6-9977-f4e4d9e65366",
   "metadata": {},
   "outputs": [],
   "source": []
  }
 ],
 "metadata": {
  "kernelspec": {
   "display_name": "Python 3 (ipykernel)",
   "language": "python",
   "name": "python3"
  },
  "language_info": {
   "codemirror_mode": {
    "name": "ipython",
    "version": 3
   },
   "file_extension": ".py",
   "mimetype": "text/x-python",
   "name": "python",
   "nbconvert_exporter": "python",
   "pygments_lexer": "ipython3",
   "version": "3.10.0"
  }
 },
 "nbformat": 4,
 "nbformat_minor": 5
}
